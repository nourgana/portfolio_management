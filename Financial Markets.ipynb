{
 "cells": [
  {
   "cell_type": "code",
   "execution_count": 1,
   "metadata": {},
   "outputs": [
    {
     "name": "stdout",
     "output_type": "stream",
     "text": [
      "Requirement already satisfied: numpy in c:\\users\\nourg\\downloads\\algo1\\lib\\site-packages (1.16.2)\n",
      "Requirement already satisfied: pandas in c:\\users\\nourg\\downloads\\algo1\\lib\\site-packages (0.24.2)\n",
      "Requirement already satisfied: python-dateutil>=2.5.0 in c:\\users\\nourg\\downloads\\algo1\\lib\\site-packages (from pandas) (2.8.0)\n",
      "Requirement already satisfied: pytz>=2011k in c:\\users\\nourg\\downloads\\algo1\\lib\\site-packages (from pandas) (2018.9)\n",
      "Requirement already satisfied: numpy>=1.12.0 in c:\\users\\nourg\\downloads\\algo1\\lib\\site-packages (from pandas) (1.16.2)\n",
      "Requirement already satisfied: six>=1.5 in c:\\users\\nourg\\downloads\\algo1\\lib\\site-packages (from python-dateutil>=2.5.0->pandas) (1.12.0)\n",
      "Requirement already satisfied: pandas_datareader in c:\\users\\nourg\\downloads\\algo1\\lib\\site-packages (0.9.0)\n",
      "Requirement already satisfied: pandas>=0.23 in c:\\users\\nourg\\downloads\\algo1\\lib\\site-packages (from pandas_datareader) (0.24.2)\n",
      "Requirement already satisfied: lxml in c:\\users\\nourg\\downloads\\algo1\\lib\\site-packages (from pandas_datareader) (4.3.2)\n",
      "Requirement already satisfied: requests>=2.19.0 in c:\\users\\nourg\\downloads\\algo1\\lib\\site-packages (from pandas_datareader) (2.21.0)\n",
      "Requirement already satisfied: pytz>=2011k in c:\\users\\nourg\\downloads\\algo1\\lib\\site-packages (from pandas>=0.23->pandas_datareader) (2018.9)\n",
      "Requirement already satisfied: numpy>=1.12.0 in c:\\users\\nourg\\downloads\\algo1\\lib\\site-packages (from pandas>=0.23->pandas_datareader) (1.16.2)\n",
      "Requirement already satisfied: python-dateutil>=2.5.0 in c:\\users\\nourg\\downloads\\algo1\\lib\\site-packages (from pandas>=0.23->pandas_datareader) (2.8.0)\n",
      "Requirement already satisfied: urllib3<1.25,>=1.21.1 in c:\\users\\nourg\\downloads\\algo1\\lib\\site-packages (from requests>=2.19.0->pandas_datareader) (1.24.1)\n",
      "Requirement already satisfied: chardet<3.1.0,>=3.0.2 in c:\\users\\nourg\\downloads\\algo1\\lib\\site-packages (from requests>=2.19.0->pandas_datareader) (3.0.4)\n",
      "Requirement already satisfied: certifi>=2017.4.17 in c:\\users\\nourg\\downloads\\algo1\\lib\\site-packages (from requests>=2.19.0->pandas_datareader) (2021.5.30)\n",
      "Requirement already satisfied: idna<2.9,>=2.5 in c:\\users\\nourg\\downloads\\algo1\\lib\\site-packages (from requests>=2.19.0->pandas_datareader) (2.8)\n",
      "Requirement already satisfied: six>=1.5 in c:\\users\\nourg\\downloads\\algo1\\lib\\site-packages (from python-dateutil>=2.5.0->pandas>=0.23->pandas_datareader) (1.12.0)\n",
      "Requirement already satisfied: matplotlib in c:\\users\\nourg\\downloads\\algo1\\lib\\site-packages (3.0.3)\n",
      "Requirement already satisfied: numpy>=1.10.0 in c:\\users\\nourg\\downloads\\algo1\\lib\\site-packages (from matplotlib) (1.16.2)\n",
      "Requirement already satisfied: cycler>=0.10 in c:\\users\\nourg\\downloads\\algo1\\lib\\site-packages (from matplotlib) (0.10.0)\n",
      "Requirement already satisfied: kiwisolver>=1.0.1 in c:\\users\\nourg\\downloads\\algo1\\lib\\site-packages (from matplotlib) (1.0.1)\n",
      "Requirement already satisfied: pyparsing!=2.0.4,!=2.1.2,!=2.1.6,>=2.0.1 in c:\\users\\nourg\\downloads\\algo1\\lib\\site-packages (from matplotlib) (2.3.1)\n",
      "Requirement already satisfied: python-dateutil>=2.1 in c:\\users\\nourg\\downloads\\algo1\\lib\\site-packages (from matplotlib) (2.8.0)\n",
      "Requirement already satisfied: six in c:\\users\\nourg\\downloads\\algo1\\lib\\site-packages (from cycler>=0.10->matplotlib) (1.12.0)\n",
      "Requirement already satisfied: setuptools in c:\\users\\nourg\\downloads\\algo1\\lib\\site-packages (from kiwisolver>=1.0.1->matplotlib) (40.8.0)\n",
      "Requirement already satisfied: scipy in c:\\users\\nourg\\downloads\\algo1\\lib\\site-packages (1.2.1)\n",
      "Requirement already satisfied: statsmodels in c:\\users\\nourg\\downloads\\algo1\\lib\\site-packages (0.9.0)\n",
      "Requirement already satisfied: stats in c:\\users\\nourg\\downloads\\algo1\\lib\\site-packages (0.1.2a0)\n"
     ]
    }
   ],
   "source": [
    "import sys\n",
    "!{sys.executable} -m pip install numpy\n",
    "import sys\n",
    "!{sys.executable} -m pip install pandas\n",
    "import sys\n",
    "!{sys.executable} -m pip install pandas_datareader\n",
    "import sys\n",
    "!{sys.executable} -m pip install matplotlib\n",
    "import sys\n",
    "!{sys.executable} -m pip install scipy\n",
    "import sys\n",
    "!{sys.executable} -m pip install statsmodels\n",
    "import sys\n",
    "!{sys.executable} -m pip install stats\n",
    "\n",
    "import numpy as np \n",
    "import pandas as pd\n",
    "import pandas_datareader.data as web\n",
    "import matplotlib.pyplot as plt\n",
    "import math\n",
    "\n",
    "DAX = web.DataReader(name = '^GDAXI', data_source = 'yahoo', start = '2017-1-1', end = '2017-12-31')"
   ]
  },
  {
   "cell_type": "code",
   "execution_count": 4,
   "metadata": {},
   "outputs": [],
   "source": [
    "import numpy as np \n",
    "import pandas as pd\n",
    "import pandas_datareader.data as web\n",
    "import matplotlib.pyplot as plt\n",
    "import math\n",
    "import stats\n",
    "import scipy "
   ]
  },
  {
   "cell_type": "code",
   "execution_count": 3,
   "metadata": {},
   "outputs": [
    {
     "data": {
      "text/html": [
       "<div>\n",
       "<style scoped>\n",
       "    .dataframe tbody tr th:only-of-type {\n",
       "        vertical-align: middle;\n",
       "    }\n",
       "\n",
       "    .dataframe tbody tr th {\n",
       "        vertical-align: top;\n",
       "    }\n",
       "\n",
       "    .dataframe thead th {\n",
       "        text-align: right;\n",
       "    }\n",
       "</style>\n",
       "<table border=\"1\" class=\"dataframe\">\n",
       "  <thead>\n",
       "    <tr style=\"text-align: right;\">\n",
       "      <th></th>\n",
       "      <th>High</th>\n",
       "      <th>Low</th>\n",
       "      <th>Open</th>\n",
       "      <th>Close</th>\n",
       "      <th>Volume</th>\n",
       "      <th>Adj Close</th>\n",
       "    </tr>\n",
       "    <tr>\n",
       "      <th>Date</th>\n",
       "      <th></th>\n",
       "      <th></th>\n",
       "      <th></th>\n",
       "      <th></th>\n",
       "      <th></th>\n",
       "      <th></th>\n",
       "    </tr>\n",
       "  </thead>\n",
       "  <tbody>\n",
       "    <tr>\n",
       "      <th>2017-01-02</th>\n",
       "      <td>11617.280273</td>\n",
       "      <td>11414.820312</td>\n",
       "      <td>11426.379883</td>\n",
       "      <td>11598.330078</td>\n",
       "      <td>47456100.0</td>\n",
       "      <td>11598.330078</td>\n",
       "    </tr>\n",
       "    <tr>\n",
       "      <th>2017-01-03</th>\n",
       "      <td>11637.370117</td>\n",
       "      <td>11561.230469</td>\n",
       "      <td>11631.700195</td>\n",
       "      <td>11584.240234</td>\n",
       "      <td>88413500.0</td>\n",
       "      <td>11584.240234</td>\n",
       "    </tr>\n",
       "    <tr>\n",
       "      <th>2017-01-04</th>\n",
       "      <td>11616.089844</td>\n",
       "      <td>11531.429688</td>\n",
       "      <td>11609.530273</td>\n",
       "      <td>11584.309570</td>\n",
       "      <td>82173600.0</td>\n",
       "      <td>11584.309570</td>\n",
       "    </tr>\n",
       "    <tr>\n",
       "      <th>2017-01-05</th>\n",
       "      <td>11602.540039</td>\n",
       "      <td>11537.400391</td>\n",
       "      <td>11537.730469</td>\n",
       "      <td>11584.940430</td>\n",
       "      <td>74924900.0</td>\n",
       "      <td>11584.940430</td>\n",
       "    </tr>\n",
       "    <tr>\n",
       "      <th>2017-01-06</th>\n",
       "      <td>11605.740234</td>\n",
       "      <td>11547.049805</td>\n",
       "      <td>11560.519531</td>\n",
       "      <td>11599.009766</td>\n",
       "      <td>67084900.0</td>\n",
       "      <td>11599.009766</td>\n",
       "    </tr>\n",
       "  </tbody>\n",
       "</table>\n",
       "</div>"
      ],
      "text/plain": [
       "                    High           Low          Open         Close  \\\n",
       "Date                                                                 \n",
       "2017-01-02  11617.280273  11414.820312  11426.379883  11598.330078   \n",
       "2017-01-03  11637.370117  11561.230469  11631.700195  11584.240234   \n",
       "2017-01-04  11616.089844  11531.429688  11609.530273  11584.309570   \n",
       "2017-01-05  11602.540039  11537.400391  11537.730469  11584.940430   \n",
       "2017-01-06  11605.740234  11547.049805  11560.519531  11599.009766   \n",
       "\n",
       "                Volume     Adj Close  \n",
       "Date                                  \n",
       "2017-01-02  47456100.0  11598.330078  \n",
       "2017-01-03  88413500.0  11584.240234  \n",
       "2017-01-04  82173600.0  11584.309570  \n",
       "2017-01-05  74924900.0  11584.940430  \n",
       "2017-01-06  67084900.0  11599.009766  "
      ]
     },
     "execution_count": 3,
     "metadata": {},
     "output_type": "execute_result"
    }
   ],
   "source": [
    "DAX.head() #le début du tableau "
   ]
  },
  {
   "cell_type": "code",
   "execution_count": 6,
   "metadata": {},
   "outputs": [
    {
     "name": "stdout",
     "output_type": "stream",
     "text": [
      "<class 'pandas.core.frame.DataFrame'>\n",
      "DatetimeIndex: 252 entries, 2017-01-02 to 2017-12-29\n",
      "Data columns (total 6 columns):\n",
      "High         252 non-null float64\n",
      "Low          252 non-null float64\n",
      "Open         252 non-null float64\n",
      "Close        252 non-null float64\n",
      "Volume       252 non-null float64\n",
      "Adj Close    252 non-null float64\n",
      "dtypes: float64(6)\n",
      "memory usage: 13.8 KB\n"
     ]
    }
   ],
   "source": [
    "DAX.info()"
   ]
  },
  {
   "cell_type": "code",
   "execution_count": 7,
   "metadata": {
    "scrolled": true
   },
   "outputs": [
    {
     "name": "stderr",
     "output_type": "stream",
     "text": [
      "C:\\Users\\nourg\\Downloads\\Algo1\\lib\\site-packages\\pandas\\plotting\\_converter.py:129: FutureWarning: Using an implicitly registered datetime converter for a matplotlib plotting method. The converter was registered by pandas on import. Future versions of pandas will require you to explicitly register matplotlib converters.\n",
      "\n",
      "To register the converters:\n",
      "\t>>> from pandas.plotting import register_matplotlib_converters\n",
      "\t>>> register_matplotlib_converters()\n",
      "  warnings.warn(msg, FutureWarning)\n"
     ]
    },
    {
     "data": {
      "image/png": "[encoded data removed]",
      "text/plain": [
       "<Figure size 432x288 with 1 Axes>"
      ]
     },
     "metadata": {
      "needs_background": "light"
     },
     "output_type": "display_data"
    }
   ],
   "source": [
    "#question1\n",
    "\n",
    "plt.plot(DAX['Close'])\n",
    "plt.legend(['DAX'],loc=2)\n",
    "plt.grid(True)\n",
    "plt.xlabel('Dates')\n",
    "plt.ylabel('Closing Prices')\n",
    "plt.show()"
   ]
  },
  {
   "cell_type": "code",
   "execution_count": 8,
   "metadata": {},
   "outputs": [],
   "source": [
    "#question2\n",
    "\n",
    "DAX['Return']=DAX['Close']/DAX['Close'].shift() - 1 #shift valeur prec\n",
    "# DAX['Return']=DAX['Close'].pct_change()"
   ]
  },
  {
   "cell_type": "code",
   "execution_count": 16,
   "metadata": {},
   "outputs": [
    {
     "data": {
      "text/plain": [
       "[<matplotlib.lines.Line2D at 0x1a5633bcef0>]"
      ]
     },
     "execution_count": 16,
     "metadata": {},
     "output_type": "execute_result"
    },
    {
     "data": {
      "image/png": "[encoded data removed]",
      "text/plain": [
       "<Figure size 432x288 with 1 Axes>"
      ]
     },
     "metadata": {
      "needs_background": "light"
     },
     "output_type": "display_data"
    }
   ],
   "source": [
    "plt.plot(DAX['Return'],'b',lw=0.5)\n",
    "plt.plot(DAX['Return'],'r.',lw=0.5)"
   ]
  },
  {
   "cell_type": "code",
   "execution_count": 17,
   "metadata": {},
   "outputs": [],
   "source": [
    "#question 3\n",
    "import scipy.stats \n"
   ]
  },
  {
   "cell_type": "code",
   "execution_count": 82,
   "metadata": {},
   "outputs": [
    {
     "data": {
      "image/png": "[encoded data removed]",
      "text/plain": [
       "<Figure size 432x288 with 1 Axes>"
      ]
     },
     "metadata": {
      "needs_background": "light"
     },
     "output_type": "display_data"
    }
   ],
   "source": [
    "#delete first row\n",
    "\n",
    "Return = DAX['Return'][1:n]\n",
    "\n",
    "\n",
    "#compute normal curve parameters\n",
    "meanR=np.mean(Return)\n",
    "sdevR=np.std(Return)\n",
    "\n",
    "#Prepare graph \n",
    "minR=np.min(Return)\n",
    "maxR=np.max(Return)\n",
    "x=np.linspace(minR,maxR,100)\n",
    "\n",
    "#graph \n",
    "plt.hist(Return,edgecolor='black',bins=10)\n",
    "plt.plot(x,scipy.stats.norm.pdf(x,meanR,sdevR))\n",
    "plt.xlabel('Range Daily Returns')\n",
    "plt.ylabel('Number of observations')\n",
    "plt.show()"
   ]
  },
  {
   "cell_type": "code",
   "execution_count": 20,
   "metadata": {},
   "outputs": [
    {
     "data": {
      "image/png": "[encoded data removed]",
      "text/plain": [
       "<Figure size 432x288 with 1 Axes>"
      ]
     },
     "metadata": {
      "needs_background": "light"
     },
     "output_type": "display_data"
    }
   ],
   "source": [
    "#question 4\n",
    "\n",
    "from scipy.stats import norm\n",
    "x=np.sort(Return) #Return a sorted copy of an array.\n",
    "y=np.arange(1,len(x)+1)/float(len(x)) #générer une liste de nombre de 1 à len(x)+1 \n",
    "#Return evenly spaced values within a given interval.\n",
    "meanR=np.mean(Return) #Compute the arithmetic mean along the specified axis.\n",
    "sdevR=np.std(Return) #Compute the standard deviation along the specified axis.\n",
    "y1=norm.cdf((x-meanR)/sdevR)\n",
    "\n",
    "plt.plot(x,y,marker='.',linestyle='none')\n",
    "plt.plot(x,y1)\n",
    "plt.grid(True)\n",
    "plt.xlabel('x')\n",
    "plt.ylabel('Cumulative Probabilities')\n",
    "plt.show()"
   ]
  },
  {
   "cell_type": "code",
   "execution_count": null,
   "metadata": {},
   "outputs": [],
   "source": [
    "\n"
   ]
  },
  {
   "cell_type": "code",
   "execution_count": 83,
   "metadata": {},
   "outputs": [
    {
     "data": {
      "image/png": "[encoded data removed]",
      "text/plain": [
       "<Figure size 432x288 with 1 Axes>"
      ]
     },
     "metadata": {
      "needs_background": "light"
     },
     "output_type": "display_data"
    }
   ],
   "source": [
    "#question 5 \n",
    "\n",
    "#Q-Q plot \n",
    "\n",
    "import statsmodels.api as sm\n",
    "\n",
    "sm.qqplot(Return,line='s')\n",
    "py.grid(True)\n",
    "py.show()"
   ]
  },
  {
   "cell_type": "code",
   "execution_count": 79,
   "metadata": {},
   "outputs": [
    {
     "name": "stdout",
     "output_type": "stream",
     "text": [
      "stats returns: DescribeResult(nobs=251, minmax=(-0.01827106641410059, 0.03373098597668167), mean=0.000451424924937419, variance=4.453973583065822e-05, skewness=0.5546012346505382, kurtosis=2.5361811967702383)\n"
     ]
    }
   ],
   "source": [
    "# Question 6 : Test the normality hypothesis with the Jarque Bera test.\n",
    "\n",
    "from scipy import stats \n",
    "Return = DAX['Return'][1:n]\n",
    "print(\"stats returns:\", stats.describe(Return))\n"
   ]
  },
  {
   "cell_type": "code",
   "execution_count": 80,
   "metadata": {},
   "outputs": [
    {
     "name": "stdout",
     "output_type": "stream",
     "text": [
      "(-0.01827106641410059, 0.03373098597668167)\n"
     ]
    },
    {
     "data": {
      "text/plain": [
       "tuple"
      ]
     },
     "execution_count": 80,
     "metadata": {},
     "output_type": "execute_result"
    }
   ],
   "source": [
    "#Statistiques descriptives\n",
    "\n",
    "statdes = stats.describe(Return)\n",
    "minmaxR = statdes[1]\n",
    "meanR = statdes[2]\n",
    "varR = statdes[3]\n",
    "skewnessR = statdes[4]\n",
    "excesskurtosisR = statdes[5]\n",
    "kurtosisR = excesskurtosisR + 3\n",
    "\n",
    "print(minmaxR)\n",
    "type(minmaxR)\n"
   ]
  },
  {
   "cell_type": "code",
   "execution_count": 84,
   "metadata": {},
   "outputs": [
    {
     "name": "stdout",
     "output_type": "stream",
     "text": [
      "-0.01827106641410059 0.03373098597668167\n"
     ]
    }
   ],
   "source": [
    "minR=minmaxR[0]\n",
    "maxR=minmaxR[1]\n",
    "\n",
    "print(minR,maxR)"
   ]
  },
  {
   "cell_type": "code",
   "execution_count": 85,
   "metadata": {},
   "outputs": [
    {
     "name": "stdout",
     "output_type": "stream",
     "text": [
      "251\n"
     ]
    }
   ],
   "source": [
    "# calcul de la statistique de BJ\n",
    "\n",
    "n=len(Return)\n",
    "print(n)\n",
    "BJ = (n/6)*(skewnessR**2)+(n/24)*(excesskurtosisR**2)\n",
    "chi2quantile = stats.chi2.pdf(0.95,df=2)"
   ]
  },
  {
   "cell_type": "code",
   "execution_count": 86,
   "metadata": {},
   "outputs": [
    {
     "name": "stdout",
     "output_type": "stream",
     "text": [
      "BJ =  80.13745168205773\n",
      "Chi2_quantile = 0.31094252823251006\n",
      "The Bera-Jarque test rejects at confidence level 5% the normality hypotesis\n"
     ]
    }
   ],
   "source": [
    "print(\"BJ = \", BJ)\n",
    "print(\"Chi2_quantile =\", chi2quantile)\n",
    "if(BJ>chi2quantile):\n",
    "    print(\"The Bera-Jarque test rejects at confidence level 5% the normality hypotesis\")\n",
    "else:\n",
    "    print(\"The Bera-Jarque test does not reject at confidence level 5% the normality hypotesis\")"
   ]
  },
  {
   "cell_type": "code",
   "execution_count": 94,
   "metadata": {},
   "outputs": [
    {
     "name": "stdout",
     "output_type": "stream",
     "text": [
      "<class 'pandas.core.frame.DataFrame'>\n",
      "DatetimeIndex: 252 entries, 2017-01-02 to 2017-12-29\n",
      "Data columns (total 2 columns):\n",
      "1    252 non-null float64\n",
      "2    252 non-null float64\n",
      "dtypes: float64(2)\n",
      "memory usage: 5.9 KB\n"
     ]
    }
   ],
   "source": [
    "#question 7 \n",
    "\n",
    "\n",
    "\n",
    "CAC = web.DataReader(name = '^FCHI', data_source = 'yahoo', start = '2017-1-1', end = '2017-12-31')\n",
    "CAC.head()\n",
    "\n",
    "Tickers = [DAX,CAC]\n",
    "\n",
    "P=pd.DataFrame()\n",
    "\n",
    "P[1]=DAX['Close']\n",
    "P[2]=CAC['Close']\n",
    "\n",
    "\n",
    "P.info()"
   ]
  },
  {
   "cell_type": "code",
   "execution_count": 106,
   "metadata": {},
   "outputs": [
    {
     "data": {
      "text/html": [
       "<div>\n",
       "<style scoped>\n",
       "    .dataframe tbody tr th:only-of-type {\n",
       "        vertical-align: middle;\n",
       "    }\n",
       "\n",
       "    .dataframe tbody tr th {\n",
       "        vertical-align: top;\n",
       "    }\n",
       "\n",
       "    .dataframe thead th {\n",
       "        text-align: right;\n",
       "    }\n",
       "</style>\n",
       "<table border=\"1\" class=\"dataframe\">\n",
       "  <thead>\n",
       "    <tr style=\"text-align: right;\">\n",
       "      <th></th>\n",
       "      <th>1</th>\n",
       "      <th>2</th>\n",
       "    </tr>\n",
       "    <tr>\n",
       "      <th>Date</th>\n",
       "      <th></th>\n",
       "      <th></th>\n",
       "    </tr>\n",
       "  </thead>\n",
       "  <tbody>\n",
       "    <tr>\n",
       "      <th>2017-01-03</th>\n",
       "      <td>-0.001215</td>\n",
       "      <td>0.003472</td>\n",
       "    </tr>\n",
       "    <tr>\n",
       "      <th>2017-01-04</th>\n",
       "      <td>0.000006</td>\n",
       "      <td>0.000014</td>\n",
       "    </tr>\n",
       "    <tr>\n",
       "      <th>2017-01-05</th>\n",
       "      <td>0.000054</td>\n",
       "      <td>0.000253</td>\n",
       "    </tr>\n",
       "    <tr>\n",
       "      <th>2017-01-06</th>\n",
       "      <td>0.001214</td>\n",
       "      <td>0.001877</td>\n",
       "    </tr>\n",
       "    <tr>\n",
       "      <th>2017-01-09</th>\n",
       "      <td>-0.003019</td>\n",
       "      <td>-0.004536</td>\n",
       "    </tr>\n",
       "  </tbody>\n",
       "</table>\n",
       "</div>"
      ],
      "text/plain": [
       "                   1         2\n",
       "Date                          \n",
       "2017-01-03 -0.001215  0.003472\n",
       "2017-01-04  0.000006  0.000014\n",
       "2017-01-05  0.000054  0.000253\n",
       "2017-01-06  0.001214  0.001877\n",
       "2017-01-09 -0.003019 -0.004536"
      ]
     },
     "execution_count": 106,
     "metadata": {},
     "output_type": "execute_result"
    }
   ],
   "source": [
    "R = pd.DataFrame()\n",
    "R[1]=P[1]/P[1].shift() - 1\n",
    "R[2]=P[2]/P[2].shift() - 1\n",
    "R=R[1:]\n",
    "R.head()"
   ]
  },
  {
   "cell_type": "code",
   "execution_count": 99,
   "metadata": {},
   "outputs": [],
   "source": [
    "weights = np.array([0.2,0.8])"
   ]
  },
  {
   "cell_type": "code",
   "execution_count": 109,
   "metadata": {},
   "outputs": [],
   "source": [
    "ptf_return = R.dot(weights)"
   ]
  },
  {
   "cell_type": "code",
   "execution_count": 110,
   "metadata": {},
   "outputs": [
    {
     "data": {
      "text/plain": [
       "Date\n",
       "2017-01-03    0.002534\n",
       "2017-01-04    0.000013\n",
       "2017-01-05    0.000213\n",
       "2017-01-06    0.001745\n",
       "2017-01-09   -0.004232\n",
       "dtype: float64"
      ]
     },
     "execution_count": 110,
     "metadata": {},
     "output_type": "execute_result"
    }
   ],
   "source": [
    "ptf_return.head()"
   ]
  },
  {
   "cell_type": "code",
   "execution_count": 111,
   "metadata": {},
   "outputs": [
    {
     "name": "stdout",
     "output_type": "stream",
     "text": [
      "0.00037731248398031116\n"
     ]
    }
   ],
   "source": [
    "mean = np.mean(ptf_return)\n",
    "print(mean)"
   ]
  },
  {
   "cell_type": "code",
   "execution_count": 112,
   "metadata": {},
   "outputs": [
    {
     "name": "stdout",
     "output_type": "stream",
     "text": [
      "4.281482370943203e-05\n"
     ]
    }
   ],
   "source": [
    "var = np.std(ptf_return)**2\n",
    "print(var)"
   ]
  },
  {
   "cell_type": "code",
   "execution_count": null,
   "metadata": {},
   "outputs": [],
   "source": []
  }
 ],
 "metadata": {
  "kernelspec": {
   "display_name": "Python 3",
   "language": "python",
   "name": "python3"
  },
  "language_info": {
   "codemirror_mode": {
    "name": "ipython",
    "version": 3
   },
   "file_extension": ".py",
   "mimetype": "text/x-python",
   "name": "python",
   "nbconvert_exporter": "python",
   "pygments_lexer": "ipython3",
   "version": "3.7.3"
  }
 },
 "nbformat": 4,
 "nbformat_minor": 2
}
